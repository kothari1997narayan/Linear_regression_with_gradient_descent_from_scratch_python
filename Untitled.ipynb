{
 "cells": [
  {
   "cell_type": "code",
   "execution_count": 1,
   "metadata": {},
   "outputs": [],
   "source": [
    "import numpy as np\n",
    "import matplotlib.pyplot as plt\n",
    "import pandas as pd\n",
    "import seaborn as sn\n",
    "import sklearn\n",
    "from sklearn.model_selection import train_test_split"
   ]
  },
  {
   "cell_type": "code",
   "execution_count": 15,
   "metadata": {},
   "outputs": [],
   "source": [
    "df = pd.read_csv(\"winequality-red.csv\",delimiter=\";\")\n",
    "data = df.to_numpy()\n",
    "X = data[:,:-1]\n",
    "Y = data[:,-1]"
   ]
  },
  {
   "cell_type": "code",
   "execution_count": 2,
   "metadata": {},
   "outputs": [],
   "source": [
    "def normalize_data(data):\n",
    "    n_features = data.shape[1]\n",
    "    new_data = np.zeros((data.shape))\n",
    "    for i in range(n_features):\n",
    "        new_data[:,i] = data[:,i]/abs(max(data[:,i],key=abs))\n",
    "    return new_data"
   ]
  },
  {
   "cell_type": "code",
   "execution_count": 3,
   "metadata": {},
   "outputs": [],
   "source": [
    "def rmse_metric(actual, predicted):\n",
    "\tsum_error = 0.0\n",
    "\tfor i in range(len(actual)):\n",
    "\t\tprediction_error = predicted[i] - actual[i]\n",
    "\t\tsum_error += (prediction_error ** 2)\n",
    "\tmean_error = sum_error / float(len(actual))\n",
    "\treturn (mean_error**0.5)"
   ]
  },
  {
   "cell_type": "code",
   "execution_count": 4,
   "metadata": {},
   "outputs": [],
   "source": [
    "def predict(x,coeff):\n",
    "    y_pred = []\n",
    "    for i in x:\n",
    "        summ = 0\n",
    "        for j in range(len(coeff)):\n",
    "            summ = summ + coeff[j]*i[j]\n",
    "        y_pred.append(summ)\n",
    "    y_pred = np.array(y_pred)\n",
    "    return y_pred"
   ]
  },
  {
   "cell_type": "code",
   "execution_count": 5,
   "metadata": {},
   "outputs": [],
   "source": [
    "def predict_optimized(x,coeff):\n",
    "    pred_matrix = coeff*x\n",
    "    y_pred= np.sum(pred_matrix, axis=-1)\n",
    "    return y_pred"
   ]
  },
  {
   "cell_type": "code",
   "execution_count": 6,
   "metadata": {},
   "outputs": [],
   "source": [
    "def grad_desc(x_train, y_train, l_rate, n_epoch):\n",
    "    coeff = np.random.rand((n_features))\n",
    "    err = []\n",
    "    for epoch in range(n_epoch):\n",
    "        y_pred = predict_optimized(x_train, coeff)\n",
    "        error = y_pred - y_train\n",
    "        rmse = rmse_metric(y_train,y_pred)\n",
    "        for i in range(len(coeff)):\n",
    "            coeff[i] = coeff[i] - (l_rate)*(2/len(x_train))*(np.sum(error*x_train[:,i]))\n",
    "        err.append(rmse)\n",
    "    return(coeff,err)"
   ]
  },
  {
   "cell_type": "code",
   "execution_count": 7,
   "metadata": {},
   "outputs": [],
   "source": [
    "def batch_grad_desc(x_train, y_train, l_rate, n_epoch, batch_size = 1):\n",
    "    coeff = np.random.rand((n_features))\n",
    "    err = []\n",
    "    n_batch = int(len(x_train)/batch_size)\n",
    "    for epoch in range(n_epoch):\n",
    "        for batch in range(n_batch):\n",
    "            x = x_train[batch*batch_size:(batch+1)*batch_size]\n",
    "            y = y_train[batch*batch_size:(batch+1)*batch_size]\n",
    "            y_pred = predict_optimized(x, coeff)\n",
    "            error = y_pred - y\n",
    "            for i in range(len(coeff)):\n",
    "                coeff[i] = coeff[i] - (l_rate)*(2/len(x))*(np.sum(error*x[:,i]))\n",
    "        \n",
    "        x = x_train[batch*batch_size:]\n",
    "        y = y_train[batch*batch_size:]\n",
    "        y_pred = predict_optimized(x, coeff)\n",
    "        error = y_pred - y\n",
    "        for i in range(len(coeff)):\n",
    "            coeff[i] = coeff[i] - (l_rate)*(2/len(x))*(np.sum(error*x[:,i]))\n",
    "        \n",
    "        y_pred = predict_optimized(x_train, coeff)\n",
    "        rmse = rmse_metric(y_train,y_pred)\n",
    "        err.append(rmse)\n",
    "    \n",
    "    return(coeff,err)"
   ]
  },
  {
   "cell_type": "code",
   "execution_count": 8,
   "metadata": {},
   "outputs": [],
   "source": [
    "def evaluate(x_test, y_test, coeff):\n",
    "    y_pred = predict_optimized(x_test, coeff)\n",
    "    rmse = rmse_metric(y_test,y_pred)\n",
    "    print(rmse)"
   ]
  },
  {
   "cell_type": "code",
   "execution_count": 14,
   "metadata": {},
   "outputs": [],
   "source": [
    "temp = np.ones((X.shape[0],X.shape[1]+1))\n",
    "temp[:,1:] = X\n",
    "X = normalize_data(temp)"
   ]
  },
  {
   "cell_type": "code",
   "execution_count": 10,
   "metadata": {},
   "outputs": [],
   "source": [
    "x_train, x_test, y_train, y_test = train_test_split(X,Y,test_size=0.2, random_state=42)\n",
    "n_features = X.shape[1]"
   ]
  },
  {
   "cell_type": "code",
   "execution_count": 17,
   "metadata": {},
   "outputs": [
    {
     "name": "stdout",
     "output_type": "stream",
     "text": [
      "0.6402483281747127\n"
     ]
    },
    {
     "data": {
      "image/png": "[encoded data removed]",
      "text/plain": [
       "<Figure size 432x288 with 1 Axes>"
      ]
     },
     "metadata": {
      "needs_background": "light"
     },
     "output_type": "display_data"
    }
   ],
   "source": [
    "coe, err = batch_grad_desc(x_train,y_train,0.01,200,10)\n",
    "plt.plot(err)\n",
    "evaluate(x_test,y_test,coe)\n",
    "y_pred = predict_optimized(x_test, coe)"
   ]
  },
  {
   "cell_type": "code",
   "execution_count": null,
   "metadata": {},
   "outputs": [],
   "source": []
  }
 ],
 "metadata": {
  "kernelspec": {
   "display_name": "Python 3",
   "language": "python",
   "name": "python3"
  },
  "language_info": {
   "codemirror_mode": {
    "name": "ipython",
    "version": 3
   },
   "file_extension": ".py",
   "mimetype": "text/x-python",
   "name": "python",
   "nbconvert_exporter": "python",
   "pygments_lexer": "ipython3",
   "version": "3.7.4"
  }
 },
 "nbformat": 4,
 "nbformat_minor": 2
}
